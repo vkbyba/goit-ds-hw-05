{
 "cells": [
  {
   "cell_type": "code",
   "execution_count": 6,
   "metadata": {},
   "outputs": [
    {
     "name": "stdout",
     "output_type": "stream",
     "text": [
      "                                                Name  \\\n",
      "0                      10-Day Green Smoothie Cleanse   \n",
      "1                                  11/22/63: A Novel   \n",
      "2            12 Rules for Life: An Antidote to Chaos   \n",
      "3                             1984 (Signet Classics)   \n",
      "4  5,000 Awesome Facts (About Everything!) (Natio...   \n",
      "\n",
      "                     Author  User Rating  Reviews  Price  Year        Genre  \n",
      "0                  JJ Smith          4.7    17350      8  2016  Non Fiction  \n",
      "1              Stephen King          4.6     2052     22  2011      Fiction  \n",
      "2        Jordan B. Peterson          4.7    18979     15  2018  Non Fiction  \n",
      "3             George Orwell          4.7    21424      6  2017      Fiction  \n",
      "4  National Geographic Kids          4.8     7665     12  2019  Non Fiction  \n"
     ]
    }
   ],
   "source": [
    "import pandas as pd\n",
    "\n",
    "book_list = pd.read_csv(\"bestsellers with categories.csv\")\n",
    "\n",
    "print(book_list.head())\n"
   ]
  },
  {
   "cell_type": "code",
   "execution_count": 7,
   "metadata": {},
   "outputs": [
    {
     "name": "stdout",
     "output_type": "stream",
     "text": [
      "(550, 7)\n"
     ]
    }
   ],
   "source": [
    "print(book_list.shape)"
   ]
  },
  {
   "cell_type": "code",
   "execution_count": 8,
   "metadata": {},
   "outputs": [
    {
     "name": "stdout",
     "output_type": "stream",
     "text": [
      "351\n"
     ]
    }
   ],
   "source": [
    "distinct_names = book_list['Name'].unique()\n",
    "\n",
    "\n",
    "distinct_count = len(distinct_names)\n",
    "\n",
    "print(distinct_count)"
   ]
  },
  {
   "cell_type": "markdown",
   "metadata": {},
   "source": [
    "Відповідь: Про скільки книг зберігає дані датасет? - 351"
   ]
  },
  {
   "cell_type": "code",
   "execution_count": 13,
   "metadata": {},
   "outputs": [
    {
     "name": "stdout",
     "output_type": "stream",
     "text": [
      "                                                name  \\\n",
      "0                      10-Day Green Smoothie Cleanse   \n",
      "1                                  11/22/63: A Novel   \n",
      "2            12 Rules for Life: An Antidote to Chaos   \n",
      "3                             1984 (Signet Classics)   \n",
      "4  5,000 Awesome Facts (About Everything!) (Natio...   \n",
      "\n",
      "                     author  user_rating  reviews  price  year        genre  \n",
      "0                  JJ Smith          4.7    17350      8  2016  Non Fiction  \n",
      "1              Stephen King          4.6     2052     22  2011      Fiction  \n",
      "2        Jordan B. Peterson          4.7    18979     15  2018  Non Fiction  \n",
      "3             George Orwell          4.7    21424      6  2017      Fiction  \n",
      "4  National Geographic Kids          4.8     7665     12  2019  Non Fiction  \n"
     ]
    }
   ],
   "source": [
    "\n",
    "import pandas as pd\n",
    "\n",
    "book_list = pd.read_csv(\"bestsellers with categories.csv\")\n",
    "\n",
    "\n",
    "book_list.columns = ['name', 'author', 'user_rating', 'reviews', 'price', 'year', 'genre']\n",
    "\n",
    "print(book_list.head())"
   ]
  },
  {
   "cell_type": "code",
   "execution_count": 15,
   "metadata": {},
   "outputs": [
    {
     "name": "stdout",
     "output_type": "stream",
     "text": [
      "name           0\n",
      "author         0\n",
      "user_rating    0\n",
      "reviews        0\n",
      "price          0\n",
      "year           0\n",
      "genre          0\n",
      "dtype: int64\n"
     ]
    }
   ],
   "source": [
    "missing_values = book_list.isna().sum()\n",
    "\n",
    "print(missing_values)\n",
    "\n"
   ]
  },
  {
   "cell_type": "markdown",
   "metadata": {},
   "source": [
    "Відповідь: Чи є в якихось змінних пропуски? (Так / ні) - ні"
   ]
  },
  {
   "cell_type": "code",
   "execution_count": 16,
   "metadata": {},
   "outputs": [
    {
     "name": "stdout",
     "output_type": "stream",
     "text": [
      "['Non Fiction' 'Fiction']\n"
     ]
    }
   ],
   "source": [
    "distinct_genre = book_list['genre'].unique()\n",
    "print(distinct_genre)"
   ]
  },
  {
   "cell_type": "markdown",
   "metadata": {},
   "source": [
    "Перевірте, які є унікальні значення в колонці genre (використовуйте функцію unique)\n",
    "Відповідь: Які є унікальні жанри? - ['Non Fiction' 'Fiction']"
   ]
  },
  {
   "cell_type": "code",
   "execution_count": 19,
   "metadata": {},
   "outputs": [
    {
     "data": {
      "image/png": "[encoded data removed]",
      "text/plain": [
       "<Figure size 1000x600 with 1 Axes>"
      ]
     },
     "metadata": {},
     "output_type": "display_data"
    }
   ],
   "source": [
    "import matplotlib.pyplot as plt\n",
    "\n",
    "plt.figure(figsize=(10, 6))\n",
    "book_list['price'].plot(kind='hist', bins=20, edgecolor='black')\n",
    "plt.title('Розподіл цін')\n",
    "plt.xlabel('Ціна')\n",
    "plt.ylabel('Частота продажу')\n",
    "plt.grid(axis='y')\n",
    "\n",
    "plt.show()"
   ]
  },
  {
   "cell_type": "code",
   "execution_count": 21,
   "metadata": {},
   "outputs": [
    {
     "name": "stdout",
     "output_type": "stream",
     "text": [
      "Максимальна ціна = 105\n",
      "Мінімальна ціна = 0\n",
      "Середня ціна = 13.1\n",
      "Медіанна ціна = 11.0\n"
     ]
    }
   ],
   "source": [
    "max_price = book_list['price'].max()\n",
    "min_price = book_list['price'].min()\n",
    "mean_price = book_list['price'].mean()\n",
    "median_price = book_list['price'].median()\n",
    "\n",
    "\n",
    "\n",
    "print(f\"Максимальна ціна = {max_price}\")\n",
    "print(f\"Мінімальна ціна = {min_price}\")\n",
    "print(f\"Середня ціна = {mean_price}\")\n",
    "print(f\"Медіанна ціна = {median_price}\")      \n"
   ]
  },
  {
   "cell_type": "code",
   "execution_count": 22,
   "metadata": {},
   "outputs": [
    {
     "name": "stdout",
     "output_type": "stream",
     "text": [
      "Відповідь: Який рейтинг у датасеті найвищий? Відповідь: = 4.9\n"
     ]
    }
   ],
   "source": [
    "max_rating = book_list['user_rating'].max()\n",
    "\n",
    "print(f\"Відповідь: Який рейтинг у датасеті найвищий? Відповідь: = {max_rating}\")"
   ]
  },
  {
   "cell_type": "code",
   "execution_count": 24,
   "metadata": {},
   "outputs": [
    {
     "name": "stdout",
     "output_type": "stream",
     "text": [
      "Відповідь: Скільки книг мають такий рейтинг? Відповідь: 52\n"
     ]
    }
   ],
   "source": [
    "\n",
    "max_rating_count = book_list[book_list['user_rating'] == max_rating].shape[0]\n",
    "\n",
    "print(f\"Відповідь: Скільки книг мають такий рейтинг? Відповідь: {max_rating_count}\")"
   ]
  },
  {
   "cell_type": "code",
   "execution_count": 26,
   "metadata": {},
   "outputs": [
    {
     "name": "stdout",
     "output_type": "stream",
     "text": [
      "Яка книга має найбільше відгуків? Відповідь: Where the Crawdads Sing\n"
     ]
    }
   ],
   "source": [
    "max_reviews_book = book_list.loc[book_list['reviews'].idxmax()]\n",
    "\n",
    "print(f\"Яка книга має найбільше відгуків? Відповідь: {max_reviews_book['name']}\")"
   ]
  },
  {
   "cell_type": "code",
   "execution_count": 30,
   "metadata": {},
   "outputs": [
    {
     "name": "stdout",
     "output_type": "stream",
     "text": [
      "Відповідь: З тих книг, що потрапили до Топ-50 у 2015 році, яка книга найдорожча (можна використати проміжний датафрейм)? Відповідь:Publication Manual of the American Psychological Association, 6th Edition\n"
     ]
    }
   ],
   "source": [
    "top_50_2015 = book_list[book_list['year'] == 2015]\n",
    "\n",
    "max_price_2015_book = top_50_2015.loc[top_50_2015['price'].idxmax()]\n",
    "print(f\"Відповідь: З тих книг, що потрапили до Топ-50 у 2015 році, яка книга найдорожча (можна використати проміжний датафрейм)? Відповідь:{max_price_2015_book['name']}\")\n",
    "\n"
   ]
  },
  {
   "cell_type": "code",
   "execution_count": 31,
   "metadata": {},
   "outputs": [
    {
     "name": "stdout",
     "output_type": "stream",
     "text": [
      "Скільки книг жанру Fiction потрапили до Топ-50 у 2010 році (використовуйте &)? Відповідь: 20\n"
     ]
    }
   ],
   "source": [
    "fiction_books_2010 = book_list[(book_list['genre'] == 'Fiction') & (book_list['year'] == 2010)]\n",
    "\n",
    "fiction_books_2010_count = fiction_books_2010.shape[0]\n",
    "print(f\"Скільки книг жанру Fiction потрапили до Топ-50 у 2010 році (використовуйте &)? Відповідь: {fiction_books_2010_count}\")\n"
   ]
  },
  {
   "cell_type": "code",
   "execution_count": 33,
   "metadata": {},
   "outputs": [
    {
     "name": "stdout",
     "output_type": "stream",
     "text": [
      "Скільки книг з рейтингом 4.9 потрапило до рейтингу у 2010 та 2011 роках? Відповідь: 1\n"
     ]
    }
   ],
   "source": [
    "books_4_9_rating_2010_2011 = book_list[(book_list['user_rating'] == 4.9) & (book_list['year'].isin([2010, 2011]))]\n",
    "\n",
    "books_4_9_rating_2010_2011_count = books_4_9_rating_2010_2011.shape[0]\n",
    "\n",
    "print(f\"Скільки книг з рейтингом 4.9 потрапило до рейтингу у 2010 та 2011 роках? Відповідь: {books_4_9_rating_2010_2011_count}\")"
   ]
  },
  {
   "cell_type": "code",
   "execution_count": 34,
   "metadata": {},
   "outputs": [
    {
     "name": "stdout",
     "output_type": "stream",
     "text": [
      "Яка книга остання у відсортованому списку? Відповідь: Old School (Diary of a Wimpy Kid #10)\n"
     ]
    }
   ],
   "source": [
    "\n",
    "books_2015_under_8 = book_list[(book_list['year'] == 2015) & (book_list['price'] < 8)]\n",
    "\n",
    "sorted_books_2015_under_8 = books_2015_under_8.sort_values(by='price')\n",
    "\n",
    "last_book_name = sorted_books_2015_under_8.iloc[-1]['name']\n",
    "\n",
    "print(f\"Яка книга остання у відсортованому списку? Відповідь: {last_book_name}\")"
   ]
  },
  {
   "cell_type": "markdown",
   "metadata": {},
   "source": [
    "Частина 3\n"
   ]
  },
  {
   "cell_type": "code",
   "execution_count": 35,
   "metadata": {},
   "outputs": [
    {
     "name": "stdout",
     "output_type": "stream",
     "text": [
      "Максимальна ціна для жанру Fiction: 82\n",
      "Мінімальна ціна для жанру Fiction: 0\n",
      "Максимальна ціна для жанру Non Fiction: 105\n",
      "Мінімальна ціна для жанру Non Fiction: 0\n"
     ]
    }
   ],
   "source": [
    "\n",
    "price_stats_by_genre = book_list.groupby('genre')['price'].agg(['max', 'min'])\n",
    "\n",
    "max_price_fiction = price_stats_by_genre.loc['Fiction', 'max']\n",
    "min_price_fiction = price_stats_by_genre.loc['Fiction', 'min']\n",
    "max_price_non_fiction = price_stats_by_genre.loc['Non Fiction', 'max']\n",
    "min_price_non_fiction = price_stats_by_genre.loc['Non Fiction', 'min']\n",
    "\n",
    "print(f\"Максимальна ціна для жанру Fiction: {max_price_fiction}\")\n",
    "print(f\"Мінімальна ціна для жанру Fiction: {min_price_fiction}\")\n",
    "print(f\"Максимальна ціна для жанру Non Fiction: {max_price_non_fiction}\")\n",
    "print(f\"Мінімальна ціна для жанру Non Fiction: {min_price_non_fiction}\")"
   ]
  },
  {
   "cell_type": "code",
   "execution_count": 36,
   "metadata": {},
   "outputs": [
    {
     "name": "stdout",
     "output_type": "stream",
     "text": [
      "Якої розмірності вийшла таблиця? Відповідь: (248, 2)\n",
      "Який автор має найбільше книг? Відповідь: Jeff Kinney\n",
      "Скільки книг цього автора? Відповідь: 12\n"
     ]
    }
   ],
   "source": [
    "author_book_counts = book_list.groupby('author').agg({'name': 'count'}).reset_index()\n",
    "\n",
    "author_book_counts.columns = ['author', 'book_count']\n",
    "\n",
    "table_dimensions = author_book_counts.shape\n",
    "\n",
    "top_author = author_book_counts.loc[author_book_counts['book_count'].idxmax()]\n",
    "\n",
    "print(f\"Якої розмірності вийшла таблиця? Відповідь: {table_dimensions}\")\n",
    "print(f\"Який автор має найбільше книг? Відповідь: {top_author['author']}\")\n",
    "print(f\"Скільки книг цього автора? Відповідь: {top_author['book_count']}\")"
   ]
  },
  {
   "cell_type": "code",
   "execution_count": 37,
   "metadata": {},
   "outputs": [
    {
     "name": "stdout",
     "output_type": "stream",
     "text": [
      "У якого автора середній рейтинг мінімальний? Відповідь: Donna Tartt\n",
      "Який у цього автора середній рейтинг? Відповідь: 3.9\n"
     ]
    }
   ],
   "source": [
    "author_avg_rating = book_list.groupby('author').agg({'user_rating': 'mean'}).reset_index()\n",
    "\n",
    "author_avg_rating.columns = ['author', 'average_rating']\n",
    "\n",
    "min_avg_rating_author = author_avg_rating.loc[author_avg_rating['average_rating'].idxmin()]\n",
    "\n",
    "print(f\"У якого автора середній рейтинг мінімальний? Відповідь: {min_avg_rating_author['author']}\")\n",
    "print(f\"Який у цього автора середній рейтинг? Відповідь: {min_avg_rating_author['average_rating']}\")"
   ]
  },
  {
   "cell_type": "code",
   "execution_count": 38,
   "metadata": {},
   "outputs": [
    {
     "name": "stdout",
     "output_type": "stream",
     "text": [
      "Який автор перший у списку? Відповідь: Muriel Barbery\n"
     ]
    }
   ],
   "source": [
    "\n",
    "merged_df = pd.concat([author_book_counts, author_avg_rating['average_rating']], axis=1)\n",
    "\n",
    "sorted_merged_df = merged_df.sort_values(by=['book_count', 'average_rating'])\n",
    "\n",
    "first_author = sorted_merged_df.iloc[0]['author']\n",
    "\n",
    "print(f\"Який автор перший у списку? Відповідь: {first_author}\")"
   ]
  }
 ],
 "metadata": {
  "kernelspec": {
   "display_name": "Python 3",
   "language": "python",
   "name": "python3"
  },
  "language_info": {
   "codemirror_mode": {
    "name": "ipython",
    "version": 3
   },
   "file_extension": ".py",
   "mimetype": "text/x-python",
   "name": "python",
   "nbconvert_exporter": "python",
   "pygments_lexer": "ipython3",
   "version": "3.12.3"
  }
 },
 "nbformat": 4,
 "nbformat_minor": 2
}
