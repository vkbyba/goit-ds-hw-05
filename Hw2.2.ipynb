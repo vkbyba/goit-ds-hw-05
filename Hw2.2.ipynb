{
 "cells": [
  {
   "cell_type": "markdown",
   "metadata": {},
   "source": [
    "Аналіз файлів"
   ]
  },
  {
   "cell_type": "markdown",
   "metadata": {},
   "source": [
    "Прочитайте файл 2017_jun_final.csv за допомогою методу read_csv\n",
    "Прочитайте отриману таблицю, використовуючи метод head"
   ]
  },
  {
   "cell_type": "code",
   "execution_count": 5,
   "metadata": {},
   "outputs": [
    {
     "name": "stdout",
     "output_type": "stream",
     "text": [
      "   N                    Посада Мова програмування Спеціалізація  \\\n",
      "0  1        Junior QA engineer                NaN     Manual QA   \n",
      "1  2        Junior QA engineer                NaN     Manual QA   \n",
      "2  3         Software Engineer            C#/.NET           NaN   \n",
      "3  4         Software Engineer         JavaScript           NaN   \n",
      "4  5  Senior Software Engineer         JavaScript           NaN   \n",
      "\n",
      "  Загальний досвід роботи Досвід роботи на поточному місці  \\\n",
      "0                     0.5                              0.5   \n",
      "1         менше 3 місяців                  менше 3 місяців   \n",
      "2                       4                                1   \n",
      "3                       5                                4   \n",
      "4       10 і більше років                              0.5   \n",
      "\n",
      "   Зарплата на місяць  Зміна зарплати за 12 місяців   Місто   Розмір компанії  \\\n",
      "0                 400                             0  Харків        до 10 осіб   \n",
      "1                 430                           130  Харків  більше 1000 осіб   \n",
      "2                2500                           800    Київ      до 1000 осіб   \n",
      "3                2000                           400   Одеса       до 200 осіб   \n",
      "4                4500                           500    Інше        до 10 осіб   \n",
      "\n",
      "   ... Ще студент                    Рівень англійської  \\\n",
      "0  ...       True    Pre-intermediate (нище середнього)   \n",
      "1  ...       True  Upper-Intermediate (вище середнього)   \n",
      "2  ...      False               Intermediate (середній)   \n",
      "3  ...      False    Pre-intermediate (нище середнього)   \n",
      "4  ...      False               Intermediate (середній)   \n",
      "\n",
      "                   Предметна область      Дата заповнення  \\\n",
      "0                      iOS,eCommerce  12/06/2017 12:38:08   \n",
      "1                       Веб-розробка  12/06/2017 12:42:51   \n",
      "2  Веб-розробка,Корпоративні системи  12/06/2017 13:02:47   \n",
      "3  Desktop Applications,Веб-розробка  12/06/2017 13:03:01   \n",
      "4  Desktop Applications,Веб-розробка  12/06/2017 13:03:47   \n",
      "\n",
      "                                          User.Agent   exp current_job_exp  \\\n",
      "0  Mozilla/5.0 (Windows NT 10.0; Win64; x64) Appl...   0.5             0.5   \n",
      "1  Mozilla/5.0 (iPad; CPU OS 10_2_1 like Mac OS X...   0.0             0.0   \n",
      "2  Mozilla/5.0 (Windows NT 10.0; Win64; x64) Appl...   4.0             1.0   \n",
      "3  Mozilla/5.0 (Windows NT 6.1; Win64; x64) Apple...   5.0             4.0   \n",
      "4  Mozilla/5.0 (iPhone; CPU iPhone OS 10_3_2 like...  10.0             0.5   \n",
      "\n",
      "  salary Валюта  cls  \n",
      "0    400    NaN   QA  \n",
      "1    430    NaN   QA  \n",
      "2   2500    NaN  DEV  \n",
      "3   2000    NaN  DEV  \n",
      "4   4500    NaN  DEV  \n",
      "\n",
      "[5 rows x 25 columns]\n"
     ]
    }
   ],
   "source": [
    "import pandas as pd\n",
    "\n",
    "users = pd.read_csv(\"2017_jun_final - 2017_jun_final.csv\")\n",
    "\n",
    "print(users.head())"
   ]
  },
  {
   "cell_type": "markdown",
   "metadata": {},
   "source": [
    "Визначте розмір таблиці за допомогою методу shape"
   ]
  },
  {
   "cell_type": "code",
   "execution_count": 6,
   "metadata": {},
   "outputs": [
    {
     "name": "stdout",
     "output_type": "stream",
     "text": [
      "(8704, 25)\n"
     ]
    }
   ],
   "source": [
    "import pandas as pd\n",
    "\n",
    "users = pd.read_csv(\"2017_jun_final - 2017_jun_final.csv\")\n",
    "\n",
    "print(users.shape)\n",
    "\n"
   ]
  },
  {
   "cell_type": "markdown",
   "metadata": {},
   "source": [
    "Визначте типи всіх стовпців за допомогою dataframe.dtypes"
   ]
  },
  {
   "cell_type": "code",
   "execution_count": 7,
   "metadata": {},
   "outputs": [
    {
     "name": "stdout",
     "output_type": "stream",
     "text": [
      "N                                     int64\n",
      "Посада                               object\n",
      "Мова програмування                   object\n",
      "Спеціалізація                        object\n",
      "Загальний досвід роботи              object\n",
      "Досвід роботи на поточному місці     object\n",
      "Зарплата на місяць                    int64\n",
      "Зміна зарплати за 12 місяців          int64\n",
      "Місто                                object\n",
      "Розмір компанії                      object\n",
      "Тип компанії                         object\n",
      "Стать                                object\n",
      "Вік                                   int64\n",
      "Освіта                               object\n",
      "Університет                          object\n",
      "Ще студент                             bool\n",
      "Рівень англійської                   object\n",
      "Предметна область                    object\n",
      "Дата заповнення                      object\n",
      "User.Agent                           object\n",
      "exp                                 float64\n",
      "current_job_exp                     float64\n",
      "salary                                int64\n",
      "Валюта                               object\n",
      "cls                                  object\n",
      "dtype: object\n"
     ]
    }
   ],
   "source": [
    "import pandas as pd\n",
    "\n",
    "users = pd.read_csv(\"2017_jun_final - 2017_jun_final.csv\")\n",
    "print(users.dtypes)\n"
   ]
  },
  {
   "cell_type": "markdown",
   "metadata": {},
   "source": [
    "Порахуйте, яка частка пропусків міститься в кожній колонці (використовуйте методи isnull та sum)"
   ]
  },
  {
   "cell_type": "code",
   "execution_count": 10,
   "metadata": {},
   "outputs": [
    {
     "name": "stdout",
     "output_type": "stream",
     "text": [
      "N                                    0.000000\n",
      "Посада                               0.000000\n",
      "Мова програмування                  44.232537\n",
      "Спеціалізація                       82.938879\n",
      "Загальний досвід роботи              0.000000\n",
      "Досвід роботи на поточному місці     0.000000\n",
      "Зарплата на місяць                   0.000000\n",
      "Зміна зарплати за 12 місяців         0.000000\n",
      "Місто                                0.000000\n",
      "Розмір компанії                      0.000000\n",
      "Тип компанії                         0.000000\n",
      "Стать                                0.000000\n",
      "Вік                                  0.000000\n",
      "Освіта                               0.000000\n",
      "Університет                          4.113051\n",
      "Ще студент                           0.000000\n",
      "Рівень англійської                   0.000000\n",
      "Предметна область                    2.562040\n",
      "Дата заповнення                      0.000000\n",
      "User.Agent                           0.000000\n",
      "exp                                  0.000000\n",
      "current_job_exp                      0.000000\n",
      "salary                               0.000000\n",
      "Валюта                              99.885110\n",
      "cls                                 18.083640\n",
      "dtype: float64\n"
     ]
    }
   ],
   "source": [
    "import pandas as pd\n",
    "\n",
    "\n",
    "users = pd.read_csv(\"2017_jun_final - 2017_jun_final.csv\")\n",
    "\n",
    "\n",
    "null_percentage = users.isnull().mean() * 100\n",
    "\n",
    "\n",
    "print(null_percentage)"
   ]
  },
  {
   "cell_type": "markdown",
   "metadata": {},
   "source": [
    "Видаліть усі стовпці з пропусками, крім стовпця \"Мова програмування\"\n",
    "\n",
    "Знову порахуйте, яка частка пропусків міститься в кожній колонці і переконайтеся, що залишився тільки стовпець \"Мова.програмування\""
   ]
  },
  {
   "cell_type": "code",
   "execution_count": 13,
   "metadata": {},
   "outputs": [
    {
     "name": "stdout",
     "output_type": "stream",
     "text": [
      "N                                    0.000000\n",
      "Посада                               0.000000\n",
      "Мова програмування                  44.232537\n",
      "Загальний досвід роботи              0.000000\n",
      "Досвід роботи на поточному місці     0.000000\n",
      "Зарплата на місяць                   0.000000\n",
      "Зміна зарплати за 12 місяців         0.000000\n",
      "Місто                                0.000000\n",
      "Розмір компанії                      0.000000\n",
      "Тип компанії                         0.000000\n",
      "Стать                                0.000000\n",
      "Вік                                  0.000000\n",
      "Освіта                               0.000000\n",
      "Ще студент                           0.000000\n",
      "Рівень англійської                   0.000000\n",
      "Дата заповнення                      0.000000\n",
      "User.Agent                           0.000000\n",
      "exp                                  0.000000\n",
      "current_job_exp                      0.000000\n",
      "salary                               0.000000\n",
      "dtype: float64\n"
     ]
    }
   ],
   "source": [
    "import pandas as pd\n",
    "\n",
    "users = pd.read_csv(\"2017_jun_final - 2017_jun_final.csv\")\n",
    "\n",
    "null_percentage = users.isnull().mean() * 100\n",
    "\n",
    "columns_with_null = null_percentage[null_percentage > 0].index\n",
    "\n",
    "columns_to_drop = [col for col in columns_with_null if col != 'Мова програмування']\n",
    "users_cleaned = users.drop(columns=columns_to_drop)\n",
    "\n",
    "print(users_cleaned.head())\n",
    "\n",
    "null_percentage_1 = users_cleaned.isnull().mean() * 100\n",
    "\n",
    "\n",
    "print(null_percentage_1)\n",
    "\n",
    "\n"
   ]
  },
  {
   "cell_type": "markdown",
   "metadata": {},
   "source": [
    "Видаліть усі рядки у вихідній таблиці за допомогою методу dropna\n",
    "\n",
    "Визначте новий розмір таблиці за допомогою методу shape"
   ]
  },
  {
   "cell_type": "code",
   "execution_count": 15,
   "metadata": {},
   "outputs": [
    {
     "name": "stdout",
     "output_type": "stream",
     "text": [
      "(0, 25)\n"
     ]
    }
   ],
   "source": [
    "import pandas as pd\n",
    "\n",
    "users = pd.read_csv(\"2017_jun_final - 2017_jun_final.csv\")\n",
    "\n",
    "cleaned_rows = users.dropna()\n",
    "\n",
    "#print(cleaned_rows. head())\n",
    "print(cleaned_rows.shape)"
   ]
  },
  {
   "cell_type": "markdown",
   "metadata": {},
   "source": [
    "Створіть нову таблицю python_data, в якій будуть тільки рядки зі спеціалістами, які вказали мову програмування Python"
   ]
  },
  {
   "cell_type": "code",
   "execution_count": 16,
   "metadata": {},
   "outputs": [
    {
     "name": "stdout",
     "output_type": "stream",
     "text": [
      "Empty DataFrame\n",
      "Columns: [N, Посада, Мова програмування, Спеціалізація, Загальний досвід роботи, Досвід роботи на поточному місці, Зарплата на місяць, Зміна зарплати за 12 місяців, Місто, Розмір компанії, Тип компанії, Стать, Вік, Освіта, Університет, Ще студент, Рівень англійської, Предметна область, Дата заповнення, User.Agent, exp, current_job_exp, salary, Валюта, cls]\n",
      "Index: []\n",
      "\n",
      "[0 rows x 25 columns]\n"
     ]
    }
   ],
   "source": [
    "import pandas as pd\n",
    "\n",
    "users = pd.read_csv(\"2017_jun_final - 2017_jun_final.csv\")\n",
    "\n",
    "python_users = cleaned_rows[cleaned_rows['Мова програмування'] == 'Python']\n",
    "\n",
    "python_users.to_csv(\"python_users.csv\", index=False)\n",
    "\n",
    "print(python_users.head())\n",
    "\n",
    "print(python_users.shape)"
   ]
  },
  {
   "cell_type": "code",
   "execution_count": 17,
   "metadata": {},
   "outputs": [
    {
     "name": "stdout",
     "output_type": "stream",
     "text": [
      "(0, 25)\n"
     ]
    }
   ],
   "source": [
    "import pandas as pd\n",
    "\n",
    "print(python_users.shape)"
   ]
  },
  {
   "cell_type": "markdown",
   "metadata": {},
   "source": [
    "Використовуючи метод groupby, виконайте групування за стовпчиком \"Посада\"\n",
    "\n",
    "\n",
    "Створіть новий DataFrame, де для згрупованих даних за стовпчиком \"Посада\", виконайте агрегацію даних за допомогою методу agg і знайдіть мінімальне та максимальне значення у стовпчику \"Зарплата.в.місяць\""
   ]
  },
  {
   "cell_type": "code",
   "execution_count": 24,
   "metadata": {},
   "outputs": [
    {
     "name": "stdout",
     "output_type": "stream",
     "text": [
      "                                        Посада  Мінімальна зарплата  \\\n",
      "0                             Business analyst                  200   \n",
      "1                                          DBA                  380   \n",
      "2                Data Scientist / Data Analyst                  150   \n",
      "3                                     Designer                  100   \n",
      "4                                       DevOps                  194   \n",
      "5   Director of Engineering / Program Director                 1500   \n",
      "6                                    ERP / CRM                  100   \n",
      "7                                Game designer                  150   \n",
      "8                                           HR                  100   \n",
      "9                                   HTML coder                  154   \n",
      "10                          Junior QA engineer                   96   \n",
      "11                    Junior Software Engineer                   75   \n",
      "12                                   Marketing                  100   \n",
      "13                             Product Manager                  250   \n",
      "14                             Project manager                  190   \n",
      "15                                QA Tech Lead                  430   \n",
      "16                                 QA engineer                  150   \n",
      "17                           Research Engineer                  114   \n",
      "18                               Sales manager                  120   \n",
      "19                                Scrum Master                  370   \n",
      "20                         Security Specialist                  300   \n",
      "21    Senior Project Manager / Program Manager                  200   \n",
      "22                          Senior QA engineer                  400   \n",
      "23                    Senior Software Engineer                  350   \n",
      "24                           Software Engineer                  100   \n",
      "25                                     Support                  138   \n",
      "26                                    Sysadmin                   90   \n",
      "27                            System Architect                  400   \n",
      "28                           Talent Researcher                  100   \n",
      "29                                   Team lead                  300   \n",
      "30                              Technical Lead                  500   \n",
      "31                            Technical writer                  200   \n",
      "\n",
      "    Максимальна зарплата  \n",
      "0                   5000  \n",
      "1                   6000  \n",
      "2                   8000  \n",
      "3                   4000  \n",
      "4                  10000  \n",
      "5                  34000  \n",
      "6                   6000  \n",
      "7                   6800  \n",
      "8                   7000  \n",
      "9                   3000  \n",
      "10                  2000  \n",
      "11                  2600  \n",
      "12                  4000  \n",
      "13                  5000  \n",
      "14                  8000  \n",
      "15                  6000  \n",
      "16                  2900  \n",
      "17                  4000  \n",
      "18                  2300  \n",
      "19                  4500  \n",
      "20                  4000  \n",
      "21                  9100  \n",
      "22                  6000  \n",
      "23                  9200  \n",
      "24                  7000  \n",
      "25                  3650  \n",
      "26                  3000  \n",
      "27                 10000  \n",
      "28                  1700  \n",
      "29                  7000  \n",
      "30                 18000  \n",
      "31                  3000  \n"
     ]
    }
   ],
   "source": [
    "import pandas as pd\n",
    "\n",
    "users = pd.read_csv(\"2017_jun_final - 2017_jun_final.csv\")\n",
    "\n",
    "grouped_data = users.groupby('Посада').agg({'Зарплата на місяць': ['min', 'max']}).reset_index()\n",
    "\n",
    "grouped_data.columns = ['Посада', 'Мінімальна зарплата', 'Максимальна зарплата']\n",
    "\n",
    "print(grouped_data)"
   ]
  },
  {
   "cell_type": "markdown",
   "metadata": {},
   "source": [
    "Створіть функцію fill_avg_salary, яка повертатиме середнє значення заробітної плати на місяць. Використовуйте її для методу apply та створіть новий стовпчик \"avg\"\n",
    "\n",
    "Створіть описову статистику за допомогою методу describe для нового стовпчика.\n",
    "Збережіть отриману таблицю в CSV файл"
   ]
  },
  {
   "cell_type": "code",
   "execution_count": 29,
   "metadata": {},
   "outputs": [
    {
     "name": "stdout",
     "output_type": "stream",
     "text": [
      "      count         mean         std         min        25%          50%  \\\n",
      "avg  8704.0  1666.704159  984.897129  482.774752  817.33913  1678.630074   \n",
      "\n",
      "             75%          max  \n",
      "avg  2162.688235  5066.363636  \n"
     ]
    }
   ],
   "source": [
    "import pandas as pd\n",
    "\n",
    "def fill_avg_salary(df):\n",
    "    df['avg'] = df.groupby('Посада')['Зарплата на місяць'].transform('mean')\n",
    "    return df\n",
    "\n",
    "users = pd.read_csv(\"2017_jun_final - 2017_jun_final.csv\")\n",
    "\n",
    "users_with_avg = fill_avg_salary(users)\n",
    "\n",
    "desc_stats = users_with_avg['avg'].describe()\n",
    "\n",
    "desc_stats_df = desc_stats.to_frame().transpose()\n",
    "\n",
    "desc_stats_df.to_csv(\"2017_jun_final - 2017_jun_final_avg_salary.csv\", index=False)\n",
    "\n",
    "print(desc_stats_df)"
   ]
  }
 ],
 "metadata": {
  "kernelspec": {
   "display_name": "Python 3",
   "language": "python",
   "name": "python3"
  },
  "language_info": {
   "codemirror_mode": {
    "name": "ipython",
    "version": 3
   },
   "file_extension": ".py",
   "mimetype": "text/x-python",
   "name": "python",
   "nbconvert_exporter": "python",
   "pygments_lexer": "ipython3",
   "version": "3.12.3"
  }
 },
 "nbformat": 4,
 "nbformat_minor": 2
}
